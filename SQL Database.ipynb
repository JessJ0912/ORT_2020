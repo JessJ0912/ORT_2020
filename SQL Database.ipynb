{
 "cells": [
  {
   "cell_type": "code",
   "execution_count": 1,
   "metadata": {},
   "outputs": [
    {
     "name": "stdout",
     "output_type": "stream",
     "text": [
      "Requirement already satisfied: ipython-sql in c:\\users\\jessica\\anaconda3\\lib\\site-packages (0.3.9)\n",
      "Requirement already satisfied: ipython>=1.0 in c:\\users\\jessica\\anaconda3\\lib\\site-packages (from ipython-sql) (6.4.0)\n",
      "Requirement already satisfied: ipython-genutils>=0.1.0 in c:\\users\\jessica\\anaconda3\\lib\\site-packages (from ipython-sql) (0.2.0)\n",
      "Requirement already satisfied: prettytable in c:\\users\\jessica\\anaconda3\\lib\\site-packages (from ipython-sql) (0.7.2)\n",
      "Requirement already satisfied: six in c:\\users\\jessica\\anaconda3\\lib\\site-packages (from ipython-sql) (1.11.0)\n",
      "Requirement already satisfied: sqlalchemy>=0.6.7 in c:\\users\\jessica\\anaconda3\\lib\\site-packages (from ipython-sql) (1.2.7)\n",
      "Requirement already satisfied: sqlparse in c:\\users\\jessica\\anaconda3\\lib\\site-packages (from ipython-sql) (0.3.0)\n",
      "Requirement already satisfied: traitlets>=4.2 in c:\\users\\jessica\\anaconda3\\lib\\site-packages (from ipython>=1.0->ipython-sql) (4.3.2)\n",
      "Requirement already satisfied: pickleshare in c:\\users\\jessica\\anaconda3\\lib\\site-packages (from ipython>=1.0->ipython-sql) (0.7.4)\n",
      "Requirement already satisfied: setuptools>=18.5 in c:\\users\\jessica\\anaconda3\\lib\\site-packages (from ipython>=1.0->ipython-sql) (39.1.0)\n",
      "Requirement already satisfied: decorator in c:\\users\\jessica\\anaconda3\\lib\\site-packages (from ipython>=1.0->ipython-sql) (4.3.0)\n",
      "Requirement already satisfied: jedi>=0.10 in c:\\users\\jessica\\anaconda3\\lib\\site-packages (from ipython>=1.0->ipython-sql) (0.12.0)\n",
      "Requirement already satisfied: pygments in c:\\users\\jessica\\anaconda3\\lib\\site-packages (from ipython>=1.0->ipython-sql) (2.2.0)\n",
      "Requirement already satisfied: simplegeneric>0.8 in c:\\users\\jessica\\anaconda3\\lib\\site-packages (from ipython>=1.0->ipython-sql) (0.8.1)\n",
      "Requirement already satisfied: colorama; sys_platform == \"win32\" in c:\\users\\jessica\\anaconda3\\lib\\site-packages (from ipython>=1.0->ipython-sql) (0.3.9)\n",
      "Requirement already satisfied: prompt-toolkit<2.0.0,>=1.0.15 in c:\\users\\jessica\\anaconda3\\lib\\site-packages (from ipython>=1.0->ipython-sql) (1.0.15)\n",
      "Requirement already satisfied: backcall in c:\\users\\jessica\\anaconda3\\lib\\site-packages (from ipython>=1.0->ipython-sql) (0.1.0)\n",
      "Requirement already satisfied: parso>=0.2.0 in c:\\users\\jessica\\anaconda3\\lib\\site-packages (from jedi>=0.10->ipython>=1.0->ipython-sql) (0.2.0)\n",
      "Requirement already satisfied: wcwidth in c:\\users\\jessica\\anaconda3\\lib\\site-packages (from prompt-toolkit<2.0.0,>=1.0.15->ipython>=1.0->ipython-sql) (0.1.7)\n"
     ]
    },
    {
     "name": "stderr",
     "output_type": "stream",
     "text": [
      "distributed 1.21.8 requires msgpack, which is not installed.\n",
      "You are using pip version 10.0.1, however version 20.0.2 is available.\n",
      "You should consider upgrading via the 'python -m pip install --upgrade pip' command.\n"
     ]
    }
   ],
   "source": [
    "!pip install ipython-sql"
   ]
  },
  {
   "cell_type": "code",
   "execution_count": 2,
   "metadata": {},
   "outputs": [],
   "source": [
    "%load_ext sql"
   ]
  },
  {
   "cell_type": "code",
   "execution_count": 3,
   "metadata": {},
   "outputs": [
    {
     "data": {
      "text/plain": [
       "'Connected: @None'"
      ]
     },
     "execution_count": 3,
     "metadata": {},
     "output_type": "execute_result"
    }
   ],
   "source": [
    "%sql sqlite://"
   ]
  },
  {
   "cell_type": "code",
   "execution_count": 15,
   "metadata": {},
   "outputs": [],
   "source": [
    "import sqlite3"
   ]
  },
  {
   "cell_type": "code",
   "execution_count": 13,
   "metadata": {},
   "outputs": [],
   "source": [
    "api_key = 'F6P63GSI1XR978HV'\n",
    "from alpha_vantage.timeseries import TimeSeries\n",
    "\n",
    "ts = TimeSeries(key=api_key, output_format='pandas')\n",
    "data, meta_data = ts.get_daily(symbol='MSFT')"
   ]
  },
  {
   "cell_type": "code",
   "execution_count": 12,
   "metadata": {},
   "outputs": [
    {
     "data": {
      "text/plain": [
       "array([1.3696000e+02, 1.3752000e+02, 1.3642500e+02, 1.3739000e+02,\n",
       "       1.7976285e+07])"
      ]
     },
     "execution_count": 12,
     "metadata": {},
     "output_type": "execute_result"
    }
   ],
   "source": [
    "data_array[1]"
   ]
  },
  {
   "cell_type": "code",
   "execution_count": 11,
   "metadata": {},
   "outputs": [
    {
     "name": "stdout",
     "output_type": "stream",
     "text": [
      " * sqlite://\n",
      "(sqlite3.OperationalError) near \"INSERT\": syntax error [SQL: 'CREATE TABLE MIRCOSOFT(opening_price float, high float,low float, closeing_price float, volume int)\\nINSERT INTO MICROSOFT VALUES(data_array[1])'] (Background on this error at: http://sqlalche.me/e/e3q8)\n"
     ]
    }
   ],
   "source": [
    "%%sql   \n",
    "CREATE TABLE MIRCOSOFT(opening_price float, high float,low float, closeing_price float, volume int)\n",
    "INSERT INTO MICROSOFT VALUES()"
   ]
  },
  {
   "cell_type": "code",
   "execution_count": 8,
   "metadata": {},
   "outputs": [
    {
     "name": "stdout",
     "output_type": "stream",
     "text": [
      " * sqlite://\n",
      "Done.\n"
     ]
    },
    {
     "data": {
      "text/html": [
       "<table>\n",
       "    <tr>\n",
       "        <th>firstname</th>\n",
       "        <th>lastname</th>\n",
       "    </tr>\n",
       "    <tr>\n",
       "        <td>Tom</td>\n",
       "        <td>Mitchell</td>\n",
       "    </tr>\n",
       "    <tr>\n",
       "        <td>Jack</td>\n",
       "        <td>Ryan</td>\n",
       "    </tr>\n",
       "</table>"
      ],
      "text/plain": [
       "[('Tom', 'Mitchell'), ('Jack', 'Ryan')]"
      ]
     },
     "execution_count": 8,
     "metadata": {},
     "output_type": "execute_result"
    }
   ],
   "source": [
    "%sql SELECT * from EMPLOYEE;  "
   ]
  },
  {
   "cell_type": "code",
   "execution_count": 23,
   "metadata": {},
   "outputs": [],
   "source": [
    "#https://stackoverflow.com/questions/51975479/parsing-json-into-insert-statements-with-python\n",
    "# Open the file containing the SQL database.\n",
    "with sqlite3.connect(\"TestORT.db\") as conn:\n",
    "\n",
    "    # Create the table if it doesn't exist.\n",
    "    conn.execute(\n",
    "        \"\"\"CREATE TABLE IF NOT EXISTS microsoft(\n",
    "                open float,\n",
    "                high float,\n",
    "                low float,\n",
    "                close float,\n",
    "                volume int\n",
    "            );\"\"\"\n",
    "        )\n",
    "\n",
    "    # Insert each entry from json into the table.\n",
    "    keys = [\"open\", \"high\", \"low\", \"close\", \"volume\"]\n",
    "    for entry in data:\n",
    "\n",
    "        # This will make sure that each key will default to None\n",
    "        # if the key doesn't exist in the json entry.\n",
    "        values = [entry.get(key, None) for key in keys]\n",
    "\n",
    "        # Execute the command and replace '?' with the each value\n",
    "        # in 'values'. DO NOT build a string and replace manually.\n",
    "        # the sqlite3 library will handle non safe strings by doing this.\n",
    "        cmd = \"\"\"INSERT INTO microsoft VALUES(\n",
    "                    ?,\n",
    "                    ?,\n",
    "                    ?,\n",
    "                    ?,\n",
    "                    ?\n",
    "                );\"\"\"\n",
    "        conn.execute(cmd, values)\n",
    "\n",
    "    conn.commit()"
   ]
  },
  {
   "cell_type": "code",
   "execution_count": 20,
   "metadata": {},
   "outputs": [],
   "source": [
    "import json\n",
    "import sqlite3\n",
    "\n",
    "# The string representing the json.\n",
    "# You will probably want to read this string in from\n",
    "# a file rather than hardcoding it.\n",
    "s = \"\"\"[\n",
    "    {\n",
    "        \"id\": 1001, \n",
    "        \"name\": \"John\", \n",
    "        \"age\" : 30 \n",
    "    }, \n",
    "    {\n",
    "        \"id\" : 1002,\n",
    "        \"name\" : \"Peter\",\n",
    "        \"age\" : 25\n",
    "    },\n",
    "    {\n",
    "        \"id\" : 1002,\n",
    "        \"name\" : \"Kevin\",\n",
    "        \"age\" : 35,\n",
    "        \"salary\" : 5000\n",
    "    }\n",
    "]\"\"\"\n",
    "\n",
    "# Read the string representing json\n",
    "# Into a python list of dicts.\n",
    "data = json.loads(s)\n",
    "\n",
    "\n",
    "# Open the file containing the SQL database.\n",
    "with sqlite3.connect(\"filename.db\") as conn:\n",
    "\n",
    "    # Create the table if it doesn't exist.\n",
    "    conn.execute(\n",
    "        \"\"\"CREATE TABLE IF NOT EXISTS tab(\n",
    "                id int,\n",
    "                name varchar(100),\n",
    "                age int,\n",
    "                salary int\n",
    "            );\"\"\"\n",
    "        )\n",
    "\n",
    "    # Insert each entry from json into the table.\n",
    "    keys = [\"id\", \"name\", \"age\", \"salary\"]\n",
    "    for entry in data:\n",
    "\n",
    "        # This will make sure that each key will default to None\n",
    "        # if the key doesn't exist in the json entry.\n",
    "        values = [entry.get(key, None) for key in keys]\n",
    "\n",
    "        # Execute the command and replace '?' with the each value\n",
    "        # in 'values'. DO NOT build a string and replace manually.\n",
    "        # the sqlite3 library will handle non safe strings by doing this.\n",
    "        cmd = \"\"\"INSERT INTO tab VALUES(\n",
    "                    ?,\n",
    "                    ?,\n",
    "                    ?,\n",
    "                    ?\n",
    "                );\"\"\"\n",
    "        conn.execute(cmd, values)\n",
    "\n",
    "    conn.commit()"
   ]
  },
  {
   "cell_type": "code",
   "execution_count": 28,
   "metadata": {},
   "outputs": [],
   "source": [
    "# Testing the table.\n",
    "with sqlite3.connect(\"TestORT.db\") as conn:\n",
    "    cmd = \"\"\"SELECT * FROM microsoft;\"\"\"\n",
    "    cur = conn.execute(cmd)\n",
    "    res = cur.fetchall()\n",
    "    for r in res:\n",
    "        print(r)"
   ]
  },
  {
   "cell_type": "code",
   "execution_count": null,
   "metadata": {},
   "outputs": [],
   "source": []
  }
 ],
 "metadata": {
  "kernelspec": {
   "display_name": "Python 3",
   "language": "python",
   "name": "python3"
  },
  "language_info": {
   "codemirror_mode": {
    "name": "ipython",
    "version": 3
   },
   "file_extension": ".py",
   "mimetype": "text/x-python",
   "name": "python",
   "nbconvert_exporter": "python",
   "pygments_lexer": "ipython3",
   "version": "3.6.5"
  }
 },
 "nbformat": 4,
 "nbformat_minor": 2
}
