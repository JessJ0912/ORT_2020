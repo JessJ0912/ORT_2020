{
 "cells": [
  {
   "cell_type": "code",
   "execution_count": 1,
   "metadata": {},
   "outputs": [],
   "source": [
    "def call_indicators(key):\n",
    "    '''This function calls the Technical Indicators class from the Alpha Vantage package.\n",
    "    Input: \n",
    "    key: Alpha Vantage API Key\n",
    "    '''\n",
    "    from alpha_vantage.techindicators import TechIndicators\n",
    "    return TechIndicators(key, output_format='pandas')"
   ]
  },
  {
   "cell_type": "code",
   "execution_count": 2,
   "metadata": {},
   "outputs": [],
   "source": [
    "def call_timeseries(key):\n",
    "    '''This function calls the Time Series class from the Alpha Vantage package.\n",
    "    Input: \n",
    "    key: Alpha Vantage API Key\n",
    "    '''\n",
    "    from alpha_vantage.timeseries import TimeSeries\n",
    "    return TimeSeries(key, output_format='pandas')"
   ]
  },
  {
   "cell_type": "code",
   "execution_count": 3,
   "metadata": {},
   "outputs": [],
   "source": [
    "import numpy as np"
   ]
  },
  {
   "cell_type": "code",
   "execution_count": 4,
   "metadata": {},
   "outputs": [],
   "source": [
    "def update_xs(indicator,symbol, key):\n",
    "    '''Returns a JSON Dictionary containing the last data points for a specified indicator on a specific stock.\n",
    "    Numpy must be imported before use.\n",
    "    Inputs:\n",
    "    - indicator: technical indicator, chosen from **LIST HERE**\n",
    "    - symbol of the stock chosen, eg. Microsoft\n",
    "    - key: Alpha Vantage API Key\n",
    "    Returns: numpy array'''\n",
    "    \n",
    "    #Call the Technical Indicators class from Alpha Vantage\n",
    "    techin = call_indicators(key)\n",
    "    #This should maybe be done with more data points.\n",
    "    if indicator == 'MOM':\n",
    "        data, meta_data = techin.get_mom(symbol=symbol, interval='daily')\n",
    "        large_MOM = np.array(data['MOM'])\n",
    "        small_MOM = large_MOM[-1:-8:-1] #Returns MOM values for the last seven working days\n",
    "        return small_MOM\n",
    "\n",
    "    "
   ]
  },
  {
   "cell_type": "code",
   "execution_count": 15,
   "metadata": {},
   "outputs": [],
   "source": [
    "def array_xs(symbol, key):\n",
    "    '''Returns a JSON Dictionary containing the last data points for a specified indicator on a specific stock.\n",
    "    Numpy must be imported before use.\n",
    "    Inputs:\n",
    "    - indicator: technical indicator, chosen from **LIST HERE**\n",
    "    - symbol of the stock chosen, eg. Microsoft\n",
    "    - key: Alpha Vantage API Key\n",
    "    Returns: numpy array'''\n",
    "    \n",
    "    #Call the Technical Indicators class from Alpha Vantage\n",
    "    techin = call_indicators(key)\n",
    "    \n",
    "    mom_data, meta_mom = techin.get_mom(symbol=symbol, interval='daily')\n",
    "    large_MOM = np.array(mom_data['MOM'])\n",
    "    \n",
    "    sma_data, meta_sma = techin.get_sma(symbol, interval='daily', time_period=200, series_type='close')\n",
    "    large_SMA = np.array(sma_data['SMA'])\n",
    "    \n",
    "    x = np.concatenate((large_MOM, large_SMA), axis=0)\n",
    "    \n",
    "    rsi_data , meta_rsi = techin.get_rsi(symbol, interval='daily', time_period=200, series_type='close')\n",
    "    large_rsi = np.array(rsi_data['RSI'])\n",
    "    \n",
    "    x = np.concatenate((x, large_rsi), axis=0)\n",
    "    \n",
    "    return x"
   ]
  },
  {
   "cell_type": "code",
   "execution_count": 11,
   "metadata": {},
   "outputs": [],
   "source": [
    "def label_ys(symbol, key):\n",
    "    '''Returns a vector y with enteries labelled 1 or 0 based on whether the percentage increase has been\n",
    "    met over a specific time period.\n",
    "    Numpy must be imported before use.'''\n",
    "    \n",
    "    #Call the Time Series class from Alpha Vantage\n",
    "    ts = call_timeseries(key)\n",
    "    \n",
    "    data, meta_data = ts.get_daily(symbol, outputsize='full')\n",
    "    \n",
    "    data_array = np.array(data['4. close'])\n",
    "    smaller_array = data_array[-1:-200:-1]\n",
    "    \n",
    "    y = np.zeros(200-7)\n",
    "    for i in range(7, 199):\n",
    "        if smaller_array[i-7] >= 1.05*smaller_array[i]:\n",
    "            y[i-7] = 1\n",
    "    \n",
    "    return y"
   ]
  },
  {
   "cell_type": "code",
   "execution_count": null,
   "metadata": {},
   "outputs": [],
   "source": []
  }
 ],
 "metadata": {
  "kernelspec": {
   "display_name": "Python 3",
   "language": "python",
   "name": "python3"
  },
  "language_info": {
   "codemirror_mode": {
    "name": "ipython",
    "version": 3
   },
   "file_extension": ".py",
   "mimetype": "text/x-python",
   "name": "python",
   "nbconvert_exporter": "python",
   "pygments_lexer": "ipython3",
   "version": "3.6.5"
  }
 },
 "nbformat": 4,
 "nbformat_minor": 2
}
