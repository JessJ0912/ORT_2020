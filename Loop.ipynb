{
 "cells": [
  {
   "cell_type": "code",
   "execution_count": 2,
   "metadata": {},
   "outputs": [],
   "source": [
    "def call_indicators(key):\n",
    "    '''This function calls the Technical Indicators class from the Alpha Vantage package.\n",
    "    Input: \n",
    "    key: Alpha Vantage API Key\n",
    "    '''\n",
    "    from alpha_vantage.techindicators import TechIndicators\n",
    "    return TechIndicators(key=api_key, output_format='pandas')"
   ]
  },
  {
   "cell_type": "code",
   "execution_count": 1,
   "metadata": {},
   "outputs": [],
   "source": [
    "import numpy as np"
   ]
  },
  {
   "cell_type": "code",
   "execution_count": null,
   "metadata": {},
   "outputs": [],
   "source": [
    "def update_xs(indicator, symbol, key):\n",
    "    '''Returns a JSON Dictionary containing the last data points for a specified indicator on a specific stock.\n",
    "    Numpy must be imported before use.\n",
    "    Inputs:\n",
    "    - indicator: technical indicator, chosen from **LIST HERE**\n",
    "    - symbol of the stock chosen, eg. Microsoft\n",
    "    - key: Alpha Vantage API Key\n",
    "    Returns: numpy array'''\n",
    "    \n",
    "    #Call the Technical Indicators class from Alpha Vantge\n",
    "    techin = call_indicators(key)\n",
    "    \n",
    "    if indicator == 'MOM':\n",
    "        data, meta_data = techin.get_mom(symbol=symbol, interval='daily')\n",
    "        large_MOM = np.array(data['MOM'])\n",
    "        small_MOM = large_MOM[-1:-8:-1] #Returns MOM values for the last seven working days\n",
    "        return small_MOM\n",
    "\n",
    "    "
   ]
  }
 ],
 "metadata": {
  "kernelspec": {
   "display_name": "Python 3",
   "language": "python",
   "name": "python3"
  },
  "language_info": {
   "codemirror_mode": {
    "name": "ipython",
    "version": 3
   },
   "file_extension": ".py",
   "mimetype": "text/x-python",
   "name": "python",
   "nbconvert_exporter": "python",
   "pygments_lexer": "ipython3",
   "version": "3.6.5"
  }
 },
 "nbformat": 4,
 "nbformat_minor": 2
}
